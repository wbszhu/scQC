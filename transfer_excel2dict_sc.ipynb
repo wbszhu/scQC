{
 "cells": [
  {
   "cell_type": "code",
   "execution_count": 2,
   "id": "4c839447",
   "metadata": {
    "scrolled": true
   },
   "outputs": [
    {
     "name": "stdout",
     "output_type": "stream",
     "text": [
      "Collecting openpyxl\n",
      "  Downloading openpyxl-3.1.5-py2.py3-none-any.whl (250 kB)\n",
      "\u001b[2K     \u001b[90m━━━━━━━━━━━━━━━━━━━━━━━━━━━━━━━━━━━━━━━\u001b[0m \u001b[32m250.9/250.9 kB\u001b[0m \u001b[31m5.0 MB/s\u001b[0m eta \u001b[36m0:00:00\u001b[0ma \u001b[36m0:00:01\u001b[0m\n",
      "\u001b[?25hCollecting et-xmlfile\n",
      "  Downloading et_xmlfile-2.0.0-py3-none-any.whl (18 kB)\n",
      "Installing collected packages: et-xmlfile, openpyxl\n",
      "Successfully installed et-xmlfile-2.0.0 openpyxl-3.1.5\n"
     ]
    }
   ],
   "source": [
    "!pip install openpyxl"
   ]
  },
  {
   "cell_type": "markdown",
   "id": "d0860e2d",
   "metadata": {},
   "source": [
    "# 拆分合并的单元格，并将值填充到拆分后的单元格\n"
   ]
  },
  {
   "cell_type": "code",
   "execution_count": 14,
   "id": "850ad163",
   "metadata": {},
   "outputs": [
    {
     "name": "stdout",
     "output_type": "stream",
     "text": [
      "处理完成，文件已保存到: /mnt/c/Users/lzhang/Desktop/unmerged.xlsx\n"
     ]
    }
   ],
   "source": [
    "import openpyxl\n",
    "\n",
    "def unmerge_and_fill_excel(file_path, output_path):\n",
    "    # 打开 Excel 工作簿\n",
    "    wb = openpyxl.load_workbook(file_path)\n",
    "    \n",
    "    # 遍历所有工作表\n",
    "    for sheet in wb.worksheets:\n",
    "        # 处理每个合并单元格区域\n",
    "        for merged_range in list(sheet.merged_cells.ranges):\n",
    "            # 获取合并区域的边界\n",
    "            min_row, min_col, max_row, max_col = merged_range.min_row, merged_range.min_col, merged_range.max_row, merged_range.max_col\n",
    "            \n",
    "            # 获取合并单元格的值\n",
    "            value = sheet.cell(row=min_row, column=min_col).value\n",
    "            \n",
    "            # 拆分合并单元格\n",
    "            sheet.unmerge_cells(start_row=min_row, start_column=min_col, end_row=max_row, end_column=max_col)\n",
    "            \n",
    "            # 将值填充到拆分后的单元格\n",
    "            for row in range(min_row, max_row + 1):\n",
    "                for col in range(min_col, max_col + 1):\n",
    "                    sheet.cell(row=row, column=col).value = value\n",
    "    \n",
    "    # 保存结果到新的 Excel 文件\n",
    "    wb.save(output_path)\n",
    "    print(f\"处理完成，文件已保存到: {output_path}\")\n",
    "\n",
    "# 示例用法\n",
    "input_file = \"/mnt/c/Users/lzhang/Desktop/test.xlsx\"  # 输入文件路径\n",
    "output_file = \"/mnt/c/Users/lzhang/Desktop/unmerged.xlsx\"  # 输出文件路径\n",
    "unmerge_and_fill_excel(input_file, output_file)\n"
   ]
  },
  {
   "cell_type": "code",
   "execution_count": 16,
   "id": "6623a3f2",
   "metadata": {},
   "outputs": [
    {
     "data": {
      "text/plain": [
       "{'Sheet1':                    Cell Type           Marker gene\n",
       " 0                     Immune                 PTPRC\n",
       " 1                  Monocytes       S100A9,LYZ,FCN1\n",
       " 2                  Monocytes                   Lyz\n",
       " 3                  Monocytes        CD14,VCAN,FCN1\n",
       " 4         Ly6-high monocytes       Ly6c2,Fn1,F13a1\n",
       " ..                       ...                   ...\n",
       " 90         Mesothelial cells          COL8A1, MSLN\n",
       " 91    AFP_ALB positive cells       AFP, ALB, APOA2\n",
       " 92  STC2_TLX1 positive cells  MARCKS, BGN, EMILIN1\n",
       " 93               Endothelial     VWF, PECAM1, CDH5\n",
       " 94                Mast cells                  Cpa3\n",
       " \n",
       " [95 rows x 2 columns]}"
      ]
     },
     "execution_count": 16,
     "metadata": {},
     "output_type": "execute_result"
    }
   ],
   "source": [
    "import pandas as pd\n",
    "\n",
    "# 使用 pandas 读取处理后的 Excel 文件\n",
    "output_file_path = \"/mnt/c/Users/lzhang/Desktop/unmerged.xlsx\" \n",
    "df = pd.read_excel(output_file_path, sheet_name=None)  # 读取所有工作表\n",
    "\n",
    "# 显示所有工作表内容\n",
    "df"
   ]
  },
  {
   "cell_type": "markdown",
   "id": "3962724e",
   "metadata": {},
   "source": [
    "# sheet to dict"
   ]
  },
  {
   "cell_type": "code",
   "execution_count": 21,
   "id": "71652691",
   "metadata": {
    "scrolled": false
   },
   "outputs": [
    {
     "data": {
      "text/plain": [
       "{'Immune': ['PTPRC'],\n",
       " 'Monocytes': ['CD14', 'VCAN', 'FCN1'],\n",
       " 'Ly6-high monocytes': ['Cd36', 'Cd300e', 'Fabp4'],\n",
       " 'Classical Monocyte': ['CD14', 'S100A8'],\n",
       " 'Intermediate Monocyte': ['CD14', 'S100A8', 'CD16'],\n",
       " 'Macrophages': ['APOE', 'CD5L'],\n",
       " 'Red-pulp macrophages': ['CD93', 'CD24', 'CD19'],\n",
       " 'Plasma cells': ['SDC1', 'XBP1', 'JCHAIN', 'IGHM', 'IGHG1'],\n",
       " 'Plasmacytoid Dendritic cells': ['LILRB4', 'IRF8', 'LILRA4'],\n",
       " 'Plasmacytoid DC': ['IL3RA', 'CLEC4C'],\n",
       " 'Plasmablast': ['MKI67', 'SDC1', 'XBP1'],\n",
       " 'cDC1': ['CLEC9A', 'XCR1'],\n",
       " 'cDC2': ['CD1C', 'CLEC10A'],\n",
       " 'Actived DC': ['CCR7'],\n",
       " 'CD34 progenitor': ['CD34', 'PROM1', 'HOXA9'],\n",
       " 'Platelets': ['GP9', 'PF4'],\n",
       " 'B cells': ['CD19', 'CD79A', 'MS4A1'],\n",
       " 'Mantle B cells': ['CD27', 'TNFRSF13B'],\n",
       " 'Follicular B cells': ['IGHD', 'FCER2', 'TCL1A', 'YBX3', 'IL4R'],\n",
       " 'Somatic hypermutation B cells': ['AICDA'],\n",
       " 'Mature B cells': ['Slco5a1', 'Anxa3', 'Nudt17', 'Adcy6', 'Cacnb3'],\n",
       " 'MZ B cells': ['Cd209b', 'Macro'],\n",
       " 'Naïve B cells': ['IGHM', 'IGHD', 'TCL1A'],\n",
       " 'Dividing': ['MKI67', 'TUBB', 'H2AFZ', 'CDK1'],\n",
       " 'T cells': ['Cd3e'],\n",
       " 'CD4/CD8 T cells': ['CD3E', 'CD4', 'CD8A', 'CD8B'],\n",
       " 'Cytotoxic T cells': ['GZMB', 'GNLY', 'PRF1'],\n",
       " 'γ δ T cells': ['FCGR3A', 'TRGV2'],\n",
       " 'Mature T cells': ['CCR7', 'CD5', 'CD27', 'CD8A', 'CD8B', 'CD4'],\n",
       " 'Actived CD4 T cells': ['Bhlhe41', 'CD43', 'CD19'],\n",
       " 'Ifit3-high CD4 T cells': ['Ifit3', 'CD8a'],\n",
       " 'CD122+ CD8 T cells': ['Birc5', 'Top2a', 'Mki67'],\n",
       " 'MAIT-like cells': ['SLC4A10', 'KLRB1'],\n",
       " 'Naïve': ['LEF1'],\n",
       " 'Treg': ['FOXP3', 'IL2RA'],\n",
       " 'ICOS-high Tregs': ['Ifit3', 'CD19'],\n",
       " 'Tfh': ['CXCR5', 'ICOS', 'PDCD1'],\n",
       " 'ILC2': ['PTGDR2', 'HPGDS', 'GATA3'],\n",
       " 'ILC3': ['RORC', 'IL1R1', 'IL23R', 'KIT'],\n",
       " 'ILC': ['IL7R', 'AREG', 'KLRB1', 'TNFSF13B'],\n",
       " 'NK': ['NCR1', 'NCAM1', 'CD160', 'FCGR3A'],\n",
       " 'NK/T Cell': ['CCL5', 'PRF1', 'GNLY', 'GZMA', 'GZMK', 'IL7R', 'RGS1', 'XCL1'],\n",
       " 'Erythrocytes': ['Cd3e', 'Tcrg-c1', 'Tcrg-c2', 'Maf', 'Il17re'],\n",
       " 'Neutrophils': ['Jchain'],\n",
       " 'Stromal cells': ['COL3A1', 'LUM', 'COL1A1', 'DCN'],\n",
       " 'Vascular endothelial cells': ['CDH5', 'KDR'],\n",
       " 'Lymphoid cells': ['CD79A',\n",
       "  'CD79B',\n",
       "  'MS4A1',\n",
       "  'GZMA',\n",
       "  'CCL5',\n",
       "  'NKG7',\n",
       "  'CD3D',\n",
       "  'CD3G',\n",
       "  'LEF1'],\n",
       " 'Myeloid dendritic cells': ['Ccr7'],\n",
       " 'Myeloid cells': ['C1QA',\n",
       "  'C1QC',\n",
       "  'C1QB',\n",
       "  'IRF8',\n",
       "  'CCL2',\n",
       "  'FSCN1',\n",
       "  'ITGAX',\n",
       "  'CCL3',\n",
       "  'CCL9',\n",
       "  'S100A8',\n",
       "  'S100A9'],\n",
       " 'Megakaryocytes': ['PPBP', 'PF4', 'ITGA2B', 'ITGB3'],\n",
       " 'Erythroblasts': ['GYPA', 'HBA', 'HBB'],\n",
       " 'Mesothelial cells': ['COL8A1', 'MSLN'],\n",
       " 'AFP_ALB positive cells': ['AFP', 'ALB', 'APOA2'],\n",
       " 'STC2_TLX1 positive cells': ['MARCKS', 'BGN', 'EMILIN1'],\n",
       " 'Endothelial': ['VWF', 'PECAM1', 'CDH5'],\n",
       " 'Mast cells': ['Cpa3']}"
      ]
     },
     "execution_count": 21,
     "metadata": {},
     "output_type": "execute_result"
    }
   ],
   "source": [
    "import pandas as pd\n",
    "\n",
    "# File path to your Excel sheet\n",
    "output_file_path = \"/mnt/c/Users/lzhang/Desktop/unmerged.xlsx\"\n",
    "\n",
    "# Read the specific sheet from the Excel file\n",
    "df = pd.read_excel(output_file_path, sheet_name=\"Sheet1\")\n",
    "\n",
    "# Convert the DataFrame into a dictionary: Cell Type -> Marker Genes (as a list)\n",
    "cell_type_to_markers = {}\n",
    "for _, row in df.iterrows():\n",
    "    cell_type = row['Cell Type']\n",
    "    markers = [marker.strip() for marker in str(row['Marker gene']).split(\",\")]  # Split markers by comma and strip whitespace\n",
    "    cell_type_to_markers[cell_type] = markers\n",
    "\n",
    "# Display the dictionary\n",
    "cell_type_to_markers"
   ]
  },
  {
   "cell_type": "markdown",
   "id": "875d2dc9",
   "metadata": {},
   "source": [
    "# sheet to dict and get all marker gene have their first letter capitalized and the rest in lowercase"
   ]
  },
  {
   "cell_type": "code",
   "execution_count": 22,
   "id": "7128f9b2",
   "metadata": {},
   "outputs": [
    {
     "data": {
      "text/plain": [
       "{'Immune': ['Ptprc'],\n",
       " 'Monocytes': ['Cd14', 'Vcan', 'Fcn1'],\n",
       " 'Ly6-high monocytes': ['Cd36', 'Cd300e', 'Fabp4'],\n",
       " 'Classical Monocyte': ['Cd14', 'S100a8'],\n",
       " 'Intermediate Monocyte': ['Cd14', 'S100a8', 'Cd16'],\n",
       " 'Macrophages': ['Apoe', 'Cd5l'],\n",
       " 'Red-pulp macrophages': ['Cd93', 'Cd24', 'Cd19'],\n",
       " 'Plasma cells': ['Sdc1', 'Xbp1', 'Jchain', 'Ighm', 'Ighg1'],\n",
       " 'Plasmacytoid Dendritic cells': ['Lilrb4', 'Irf8', 'Lilra4'],\n",
       " 'Plasmacytoid DC': ['Il3ra', 'Clec4c'],\n",
       " 'Plasmablast': ['Mki67', 'Sdc1', 'Xbp1'],\n",
       " 'cDC1': ['Clec9a', 'Xcr1'],\n",
       " 'cDC2': ['Cd1c', 'Clec10a'],\n",
       " 'Actived DC': ['Ccr7'],\n",
       " 'CD34 progenitor': ['Cd34', 'Prom1', 'Hoxa9'],\n",
       " 'Platelets': ['Gp9', 'Pf4'],\n",
       " 'B cells': ['Cd19', 'Cd79a', 'Ms4a1'],\n",
       " 'Mantle B cells': ['Cd27', 'Tnfrsf13b'],\n",
       " 'Follicular B cells': ['Ighd', 'Fcer2', 'Tcl1a', 'Ybx3', 'Il4r'],\n",
       " 'Somatic hypermutation B cells': ['Aicda'],\n",
       " 'Mature B cells': ['Slco5a1', 'Anxa3', 'Nudt17', 'Adcy6', 'Cacnb3'],\n",
       " 'MZ B cells': ['Cd209b', 'Macro'],\n",
       " 'Naïve B cells': ['Ighm', 'Ighd', 'Tcl1a'],\n",
       " 'Dividing': ['Mki67', 'Tubb', 'H2afz', 'Cdk1'],\n",
       " 'T cells': ['Cd3e'],\n",
       " 'CD4/CD8 T cells': ['Cd3e', 'Cd4', 'Cd8a', 'Cd8b'],\n",
       " 'Cytotoxic T cells': ['Gzmb', 'Gnly', 'Prf1'],\n",
       " 'γ δ T cells': ['Fcgr3a', 'Trgv2'],\n",
       " 'Mature T cells': ['Ccr7', 'Cd5', 'Cd27', 'Cd8a', 'Cd8b', 'Cd4'],\n",
       " 'Actived CD4 T cells': ['Bhlhe41', 'Cd43', 'Cd19'],\n",
       " 'Ifit3-high CD4 T cells': ['Ifit3', 'Cd8a'],\n",
       " 'CD122+ CD8 T cells': ['Birc5', 'Top2a', 'Mki67'],\n",
       " 'MAIT-like cells': ['Slc4a10', 'Klrb1'],\n",
       " 'Naïve': ['Lef1'],\n",
       " 'Treg': ['Foxp3', 'Il2ra'],\n",
       " 'ICOS-high Tregs': ['Ifit3', 'Cd19'],\n",
       " 'Tfh': ['Cxcr5', 'Icos', 'Pdcd1'],\n",
       " 'ILC2': ['Ptgdr2', 'Hpgds', 'Gata3'],\n",
       " 'ILC3': ['Rorc', 'Il1r1', 'Il23r', 'Kit'],\n",
       " 'ILC': ['Il7r', 'Areg', 'Klrb1', 'Tnfsf13b'],\n",
       " 'NK': ['Ncr1', 'Ncam1', 'Cd160', 'Fcgr3a'],\n",
       " 'NK/T Cell': ['Ccl5', 'Prf1', 'Gnly', 'Gzma', 'Gzmk', 'Il7r', 'Rgs1', 'Xcl1'],\n",
       " 'Erythrocytes': ['Cd3e', 'Tcrg-c1', 'Tcrg-c2', 'Maf', 'Il17re'],\n",
       " 'Neutrophils': ['Jchain'],\n",
       " 'Stromal cells': ['Col3a1', 'Lum', 'Col1a1', 'Dcn'],\n",
       " 'Vascular endothelial cells': ['Cdh5', 'Kdr'],\n",
       " 'Lymphoid cells': ['Cd79a',\n",
       "  'Cd79b',\n",
       "  'Ms4a1',\n",
       "  'Gzma',\n",
       "  'Ccl5',\n",
       "  'Nkg7',\n",
       "  'Cd3d',\n",
       "  'Cd3g',\n",
       "  'Lef1'],\n",
       " 'Myeloid dendritic cells': ['Ccr7'],\n",
       " 'Myeloid cells': ['C1qa',\n",
       "  'C1qc',\n",
       "  'C1qb',\n",
       "  'Irf8',\n",
       "  'Ccl2',\n",
       "  'Fscn1',\n",
       "  'Itgax',\n",
       "  'Ccl3',\n",
       "  'Ccl9',\n",
       "  'S100a8',\n",
       "  'S100a9'],\n",
       " 'Megakaryocytes': ['Ppbp', 'Pf4', 'Itga2b', 'Itgb3'],\n",
       " 'Erythroblasts': ['Gypa', 'Hba', 'Hbb'],\n",
       " 'Mesothelial cells': ['Col8a1', 'Msln'],\n",
       " 'AFP_ALB positive cells': ['Afp', 'Alb', 'Apoa2'],\n",
       " 'STC2_TLX1 positive cells': ['Marcks', 'Bgn', 'Emilin1'],\n",
       " 'Endothelial': ['Vwf', 'Pecam1', 'Cdh5'],\n",
       " 'Mast cells': ['Cpa3']}"
      ]
     },
     "execution_count": 22,
     "metadata": {},
     "output_type": "execute_result"
    }
   ],
   "source": [
    "import pandas as pd\n",
    "\n",
    "# File path to your Excel sheet\n",
    "output_file_path = \"/mnt/c/Users/lzhang/Desktop/unmerged.xlsx\"\n",
    "\n",
    "# Read the specific sheet from the Excel file\n",
    "df = pd.read_excel(output_file_path, sheet_name=\"Sheet1\")\n",
    "\n",
    "# Convert the DataFrame into a dictionary: Cell Type -> Marker Genes (as a list)\n",
    "cell_type_to_markers = {}\n",
    "for _, row in df.iterrows():\n",
    "    cell_type = row['Cell Type']\n",
    "    markers = [\n",
    "        marker.strip().capitalize()  # Capitalize the first letter of each marker gene\n",
    "        for marker in str(row['Marker gene']).split(\",\")\n",
    "    ]\n",
    "    cell_type_to_markers[cell_type] = markers\n",
    "\n",
    "# Display the dictionary\n",
    "cell_type_to_markers\n"
   ]
  }
 ],
 "metadata": {
  "kernelspec": {
   "display_name": "Python 3 (ipykernel)",
   "language": "python",
   "name": "python3"
  },
  "language_info": {
   "codemirror_mode": {
    "name": "ipython",
    "version": 3
   },
   "file_extension": ".py",
   "mimetype": "text/x-python",
   "name": "python",
   "nbconvert_exporter": "python",
   "pygments_lexer": "ipython3",
   "version": "3.10.6"
  }
 },
 "nbformat": 4,
 "nbformat_minor": 5
}
